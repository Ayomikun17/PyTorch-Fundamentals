{
 "cells": [
  {
   "cell_type": "code",
   "execution_count": 1,
   "id": "1014e7b5",
   "metadata": {},
   "outputs": [],
   "source": [
    "import torch "
   ]
  },
  {
   "cell_type": "markdown",
   "id": "cb0065cc",
   "metadata": {},
   "source": [
    "### Working with tensors in Pytorch\n",
    "Using `torch.tensor()`"
   ]
  },
  {
   "cell_type": "code",
   "execution_count": 2,
   "id": "3ca462d8",
   "metadata": {},
   "outputs": [
    {
     "data": {
      "text/plain": [
       "tensor(7)"
      ]
     },
     "execution_count": 2,
     "metadata": {},
     "output_type": "execute_result"
    }
   ],
   "source": [
    "scalar = torch.tensor(7)\n",
    "scalar"
   ]
  },
  {
   "cell_type": "code",
   "execution_count": 3,
   "id": "182dca61",
   "metadata": {},
   "outputs": [
    {
     "data": {
      "text/plain": [
       "0"
      ]
     },
     "execution_count": 3,
     "metadata": {},
     "output_type": "execute_result"
    }
   ],
   "source": [
    "scalar.ndim"
   ]
  },
  {
   "cell_type": "code",
   "execution_count": 4,
   "id": "f1e42063",
   "metadata": {},
   "outputs": [
    {
     "data": {
      "text/plain": [
       "tensor([ 2, 67])"
      ]
     },
     "execution_count": 4,
     "metadata": {},
     "output_type": "execute_result"
    }
   ],
   "source": [
    "# Vector in Pytorch\n",
    "vector = torch.tensor([2,67])\n",
    "vector"
   ]
  },
  {
   "cell_type": "code",
   "execution_count": 5,
   "id": "453ced4a",
   "metadata": {},
   "outputs": [
    {
     "name": "stdout",
     "output_type": "stream",
     "text": [
      "torch.Size([2])\n",
      "1\n"
     ]
    }
   ],
   "source": [
    "print(vector.shape)\n",
    "print(vector.ndim)"
   ]
  },
  {
   "cell_type": "code",
   "execution_count": 6,
   "id": "b083a4c4",
   "metadata": {},
   "outputs": [
    {
     "data": {
      "text/plain": [
       "tensor([[[1, 2, 3],\n",
       "         [3, 4, 5],\n",
       "         [5, 7, 8]]])"
      ]
     },
     "execution_count": 6,
     "metadata": {},
     "output_type": "execute_result"
    }
   ],
   "source": [
    "# Matrix in Pytorch\n",
    "matrix = torch.tensor([[[1,2,3],\n",
    "                       [3,4,5],\n",
    "                       [5,7,8]]])\n",
    "matrix"
   ]
  },
  {
   "cell_type": "code",
   "execution_count": 7,
   "id": "1452443b",
   "metadata": {},
   "outputs": [
    {
     "name": "stdout",
     "output_type": "stream",
     "text": [
      "3\n",
      "torch.Size([1, 3, 3])\n"
     ]
    }
   ],
   "source": [
    "print(matrix.ndim)\n",
    "print(matrix.shape)"
   ]
  },
  {
   "cell_type": "markdown",
   "id": "edba813c",
   "metadata": {},
   "source": [
    "### Creating random tensors in Pytorch \n",
    "\n"
   ]
  },
  {
   "cell_type": "code",
   "execution_count": 8,
   "id": "902e293a",
   "metadata": {},
   "outputs": [
    {
     "data": {
      "text/plain": [
       "tensor([[0.5464, 0.8995, 0.2740, 0.9714],\n",
       "        [0.7818, 0.7033, 0.6364, 0.1417],\n",
       "        [0.0594, 0.9518, 0.8294, 0.9540]])"
      ]
     },
     "execution_count": 8,
     "metadata": {},
     "output_type": "execute_result"
    }
   ],
   "source": [
    "random_tensor = torch.rand(3,4)\n",
    "random_tensor"
   ]
  },
  {
   "cell_type": "markdown",
   "id": "e48b99dd",
   "metadata": {},
   "source": [
    "Difference between `rand` and `randn`\n",
    "<ul>\n",
    "    <li>rand: generates a number from between 0 and 1 in a uniform distribution</li>\n",
    "    <li>randn: generates a number from a normal distribution with a mean of 0 and a S.D of 1</li>\n",
    "</ul>\n",
    "\n"
   ]
  },
  {
   "cell_type": "code",
   "execution_count": 9,
   "id": "089efdaa",
   "metadata": {},
   "outputs": [
    {
     "name": "stdout",
     "output_type": "stream",
     "text": [
      "2\n"
     ]
    }
   ],
   "source": [
    "print(random_tensor.ndim)"
   ]
  },
  {
   "cell_type": "code",
   "execution_count": 10,
   "id": "5e69aefa",
   "metadata": {},
   "outputs": [
    {
     "data": {
      "text/plain": [
       "tensor([[[0.0876, 0.2413, 0.6134],\n",
       "         [0.8779, 0.9750, 0.4191],\n",
       "         [0.8203, 0.0467, 0.7568],\n",
       "         ...,\n",
       "         [0.2771, 0.7742, 0.4551],\n",
       "         [0.8957, 0.1804, 0.2717],\n",
       "         [0.9642, 0.8443, 0.3713]],\n",
       "\n",
       "        [[0.2942, 0.9149, 0.2312],\n",
       "         [0.3150, 0.1476, 0.1669],\n",
       "         [0.4774, 0.0272, 0.5491],\n",
       "         ...,\n",
       "         [0.1777, 0.1371, 0.1095],\n",
       "         [0.0025, 0.6648, 0.8380],\n",
       "         [0.0908, 0.8888, 0.2275]],\n",
       "\n",
       "        [[0.9861, 0.6544, 0.4805],\n",
       "         [0.9521, 0.9309, 0.2935],\n",
       "         [0.3120, 0.4049, 0.8144],\n",
       "         ...,\n",
       "         [0.5873, 0.4714, 0.1480],\n",
       "         [0.5495, 0.7166, 0.8419],\n",
       "         [0.3303, 0.0809, 0.6095]],\n",
       "\n",
       "        ...,\n",
       "\n",
       "        [[0.2727, 0.6023, 0.0036],\n",
       "         [0.8867, 0.6734, 0.4396],\n",
       "         [0.9159, 0.5851, 0.5184],\n",
       "         ...,\n",
       "         [0.1731, 0.6589, 0.9574],\n",
       "         [0.5270, 0.5942, 0.5065],\n",
       "         [0.5949, 0.2563, 0.9770]],\n",
       "\n",
       "        [[0.3677, 0.8249, 0.7788],\n",
       "         [0.5268, 0.2108, 0.9599],\n",
       "         [0.6101, 0.5536, 0.5172],\n",
       "         ...,\n",
       "         [0.0569, 0.0479, 0.7110],\n",
       "         [0.6600, 0.3540, 0.6333],\n",
       "         [0.2143, 0.7562, 0.6160]],\n",
       "\n",
       "        [[0.2811, 0.9611, 0.9083],\n",
       "         [0.3808, 0.2960, 0.5776],\n",
       "         [0.0431, 0.2087, 0.5676],\n",
       "         ...,\n",
       "         [0.7596, 0.5991, 0.5542],\n",
       "         [0.6301, 0.2997, 0.8481],\n",
       "         [0.2501, 0.2928, 0.8691]]])"
      ]
     },
     "execution_count": 10,
     "metadata": {},
     "output_type": "execute_result"
    }
   ],
   "source": [
    "random_image_size_tensor = torch.rand(size=(244,244,3))\n",
    "random_image_size_tensor"
   ]
  },
  {
   "cell_type": "code",
   "execution_count": 11,
   "id": "04431e5c",
   "metadata": {},
   "outputs": [
    {
     "name": "stdout",
     "output_type": "stream",
     "text": [
      "torch.Size([244, 244, 3])\n",
      "3\n"
     ]
    }
   ],
   "source": [
    "print(random_image_size_tensor.shape)\n",
    "print(random_image_size_tensor.ndim)"
   ]
  },
  {
   "cell_type": "markdown",
   "id": "f837e58d",
   "metadata": {},
   "source": [
    "### Tensors of zeroes and ones"
   ]
  },
  {
   "cell_type": "code",
   "execution_count": 12,
   "id": "a975f938",
   "metadata": {},
   "outputs": [
    {
     "data": {
      "text/plain": [
       "tensor([[0., 0., 0., 0.],\n",
       "        [0., 0., 0., 0.],\n",
       "        [0., 0., 0., 0.]])"
      ]
     },
     "execution_count": 12,
     "metadata": {},
     "output_type": "execute_result"
    }
   ],
   "source": [
    "zeros = torch.zeros(size=(3,4))\n",
    "zeros"
   ]
  },
  {
   "cell_type": "code",
   "execution_count": 13,
   "id": "0484219c",
   "metadata": {},
   "outputs": [
    {
     "data": {
      "text/plain": [
       "tensor([[0., 0., 0., 0.],\n",
       "        [0., 0., 0., 0.],\n",
       "        [0., 0., 0., 0.]])"
      ]
     },
     "execution_count": 13,
     "metadata": {},
     "output_type": "execute_result"
    }
   ],
   "source": [
    "zeros * random_tensor"
   ]
  },
  {
   "cell_type": "code",
   "execution_count": 14,
   "id": "6daac5fd",
   "metadata": {},
   "outputs": [
    {
     "data": {
      "text/plain": [
       "tensor([[1., 1., 1., 1.],\n",
       "        [1., 1., 1., 1.],\n",
       "        [1., 1., 1., 1.],\n",
       "        [1., 1., 1., 1.]])"
      ]
     },
     "execution_count": 14,
     "metadata": {},
     "output_type": "execute_result"
    }
   ],
   "source": [
    "ones = torch.ones(size=(4,4))\n",
    "ones"
   ]
  },
  {
   "cell_type": "code",
   "execution_count": 15,
   "id": "6400b454",
   "metadata": {},
   "outputs": [
    {
     "data": {
      "text/plain": [
       "torch.float32"
      ]
     },
     "execution_count": 15,
     "metadata": {},
     "output_type": "execute_result"
    }
   ],
   "source": [
    "ones.dtype"
   ]
  },
  {
   "cell_type": "markdown",
   "id": "3dce8f19",
   "metadata": {},
   "source": [
    "### Creating a range of tensors"
   ]
  },
  {
   "cell_type": "code",
   "execution_count": 16,
   "id": "d0f130ea",
   "metadata": {},
   "outputs": [
    {
     "data": {
      "text/plain": [
       "tensor([0, 3, 6, 9])"
      ]
     },
     "execution_count": 16,
     "metadata": {},
     "output_type": "execute_result"
    }
   ],
   "source": [
    "torch.arange(0,10,3)"
   ]
  },
  {
   "cell_type": "markdown",
   "id": "485c398d",
   "metadata": {},
   "source": [
    "### Important errors to take note of in pytorch and deep learning \n",
    "\n",
    "1. Not the same data type\n",
    "2. Not the same shape \n",
    "3. Not on the same device "
   ]
  },
  {
   "cell_type": "code",
   "execution_count": 17,
   "id": "eb1469e1",
   "metadata": {},
   "outputs": [
    {
     "name": "stdout",
     "output_type": "stream",
     "text": [
      "tensor([[0.1553, 0.1694]], dtype=torch.float16)\n",
      "torch.float16\n",
      "torch.Size([1, 2])\n",
      "torch.Size([1, 2])\n",
      "cpu\n"
     ]
    }
   ],
   "source": [
    "sample_tensor = torch.rand(1,2, dtype = torch.float16)\n",
    "print(sample_tensor)\n",
    "print(sample_tensor.dtype)\n",
    "print(sample_tensor.shape) # Tensor shape and size are the same thing \n",
    "print(sample_tensor.size())\n",
    "print(sample_tensor.device)"
   ]
  },
  {
   "cell_type": "markdown",
   "id": "dc8a5d6f",
   "metadata": {},
   "source": [
    "### Manipulating Tensors"
   ]
  },
  {
   "cell_type": "code",
   "execution_count": 18,
   "id": "292499af",
   "metadata": {},
   "outputs": [
    {
     "data": {
      "text/plain": [
       "tensor([[10.1562, 10.1719]], dtype=torch.float16)"
      ]
     },
     "execution_count": 18,
     "metadata": {},
     "output_type": "execute_result"
    }
   ],
   "source": [
    "# Adding 10 to the tensor\n",
    "sample_tensor + 10"
   ]
  },
  {
   "cell_type": "code",
   "execution_count": 19,
   "id": "d96998c2",
   "metadata": {},
   "outputs": [
    {
     "data": {
      "text/plain": [
       "tensor([[1.5527, 1.6943]], dtype=torch.float16)"
      ]
     },
     "execution_count": 19,
     "metadata": {},
     "output_type": "execute_result"
    }
   ],
   "source": [
    "# Multiplying tensors\n",
    "sample_tensor = sample_tensor * 10\n",
    "sample_tensor"
   ]
  },
  {
   "cell_type": "code",
   "execution_count": 20,
   "id": "ac7f6993",
   "metadata": {},
   "outputs": [
    {
     "data": {
      "text/plain": [
       "tensor([[0.1553, 0.1694]], dtype=torch.float16)"
      ]
     },
     "execution_count": 20,
     "metadata": {},
     "output_type": "execute_result"
    }
   ],
   "source": [
    "# Dividing tensors\n",
    "div_tensor = sample_tensor / 10\n",
    "div_tensor"
   ]
  },
  {
   "cell_type": "code",
   "execution_count": 21,
   "id": "5e4befb7",
   "metadata": {},
   "outputs": [
    {
     "data": {
      "text/plain": [
       "tensor([[-8.4453, -8.3047]], dtype=torch.float16)"
      ]
     },
     "execution_count": 21,
     "metadata": {},
     "output_type": "execute_result"
    }
   ],
   "source": [
    "# Subtracting tensors\n",
    "sub_tensors = sample_tensor - 10\n",
    "sub_tensors"
   ]
  },
  {
   "cell_type": "markdown",
   "id": "4b128f0e",
   "metadata": {},
   "source": [
    "### In-built functions for tensor manipulation "
   ]
  },
  {
   "cell_type": "code",
   "execution_count": 22,
   "id": "db442328",
   "metadata": {},
   "outputs": [
    {
     "name": "stdout",
     "output_type": "stream",
     "text": [
      "tensor([[1.5527, 1.6943]], dtype=torch.float16)\n",
      "Adding tensors:  tensor([[11.5547, 11.6953]], dtype=torch.float16)\n",
      "Multiplying tensors:  tensor([[15.5312, 16.9375]], dtype=torch.float16)\n",
      "Subtracting tensors:  tensor([[-8.4453, -8.3047]], dtype=torch.float16)\n",
      "Dividing ten:  tensor([[0.1553, 0.1694]], dtype=torch.float16)\n"
     ]
    }
   ],
   "source": [
    "print(sample_tensor)\n",
    "print('Adding tensors: ',sample_tensor.add(10))\n",
    "print('Multiplying tensors: ',sample_tensor.mul(10))\n",
    "print('Subtracting tensors: ',sample_tensor.sub(10))\n",
    "print('Dividing ten: ',sample_tensor.div(10))"
   ]
  },
  {
   "cell_type": "markdown",
   "id": "d63f12b6",
   "metadata": {},
   "source": [
    "### Matrix Multiplication"
   ]
  },
  {
   "cell_type": "markdown",
   "id": "575df503",
   "metadata": {},
   "source": [
    "There are 2 main ways of performing multiplication in neural networks and deep learning\n",
    "1. Element-wise multiplicaiton\n",
    "2. Matrix multiplication (dot product) {columns must be the same for multiplicaiton }"
   ]
  },
  {
   "cell_type": "code",
   "execution_count": 23,
   "id": "80808215",
   "metadata": {},
   "outputs": [
    {
     "name": "stdout",
     "output_type": "stream",
     "text": [
      "tensor([1, 2, 3]) * tensor([2, 3, 5])\n",
      "tensor([ 2,  6, 15])\n"
     ]
    }
   ],
   "source": [
    "tensor1 = torch.tensor([1,2,3])\n",
    "tensor2 = torch.tensor([2,3,5])\n",
    " \n",
    "# Element-wise multiplication\n",
    "print(f'{tensor1} * {tensor2}')\n",
    "print(tensor1 * tensor2)"
   ]
  },
  {
   "cell_type": "code",
   "execution_count": 24,
   "id": "420311dc",
   "metadata": {},
   "outputs": [
    {
     "data": {
      "text/plain": [
       "tensor(23)"
      ]
     },
     "execution_count": 24,
     "metadata": {},
     "output_type": "execute_result"
    }
   ],
   "source": [
    "# Matrix multiplication\n",
    "torch.matmul(tensor1, tensor2)"
   ]
  },
  {
   "cell_type": "markdown",
   "id": "ee884e78",
   "metadata": {},
   "source": [
    "### Rules to guide matrix multiplication\n",
    "1. The **inner dimensions** must match e.g (2,3) and (3,3)\n",
    "2. The **resulting matrix** has the shape of the outer dimensions e.g (2,4) and (4,5) produces a result of **(5,2)**"
   ]
  },
  {
   "cell_type": "code",
   "execution_count": 25,
   "id": "410bfa50",
   "metadata": {},
   "outputs": [
    {
     "data": {
      "text/plain": [
       "tensor([[0.8809, 0.5917, 0.8972, 0.8693, 0.9533],\n",
       "        [1.1656, 0.4635, 1.0996, 1.1595, 1.2107]])"
      ]
     },
     "execution_count": 25,
     "metadata": {},
     "output_type": "execute_result"
    }
   ],
   "source": [
    "matrix1 = torch.rand(2,4)\n",
    "matrix2 = torch.rand(4,5)\n",
    "\n",
    "result = matrix1.matmul(matrix2)\n",
    "result"
   ]
  },
  {
   "cell_type": "code",
   "execution_count": 26,
   "id": "1ee57979",
   "metadata": {},
   "outputs": [
    {
     "ename": "RuntimeError",
     "evalue": "mat1 and mat2 shapes cannot be multiplied (3x2 and 3x2)",
     "output_type": "error",
     "traceback": [
      "\u001b[1;31m---------------------------------------------------------------------------\u001b[0m",
      "\u001b[1;31mRuntimeError\u001b[0m                              Traceback (most recent call last)",
      "Cell \u001b[1;32mIn[26], line 10\u001b[0m\n\u001b[0;32m      2\u001b[0m tensor_A \u001b[38;5;241m=\u001b[39m torch\u001b[38;5;241m.\u001b[39mtensor([[\u001b[38;5;241m1\u001b[39m,\u001b[38;5;241m2\u001b[39m],\n\u001b[0;32m      3\u001b[0m                         [\u001b[38;5;241m3\u001b[39m,\u001b[38;5;241m4\u001b[39m],\n\u001b[0;32m      4\u001b[0m                         [\u001b[38;5;241m5\u001b[39m,\u001b[38;5;241m6\u001b[39m]])\n\u001b[0;32m      6\u001b[0m tensor_B \u001b[38;5;241m=\u001b[39m torch\u001b[38;5;241m.\u001b[39mtensor([[\u001b[38;5;241m7\u001b[39m,\u001b[38;5;241m10\u001b[39m],\n\u001b[0;32m      7\u001b[0m                         [\u001b[38;5;241m8\u001b[39m,\u001b[38;5;241m11\u001b[39m],\n\u001b[0;32m      8\u001b[0m                         [\u001b[38;5;241m9\u001b[39m,\u001b[38;5;241m12\u001b[39m]])\n\u001b[1;32m---> 10\u001b[0m \u001b[43mtorch\u001b[49m\u001b[38;5;241;43m.\u001b[39;49m\u001b[43mmatmul\u001b[49m\u001b[43m(\u001b[49m\u001b[43mtensor_A\u001b[49m\u001b[43m,\u001b[49m\u001b[43m \u001b[49m\u001b[43mtensor_B\u001b[49m\u001b[43m)\u001b[49m\n",
      "\u001b[1;31mRuntimeError\u001b[0m: mat1 and mat2 shapes cannot be multiplied (3x2 and 3x2)"
     ]
    }
   ],
   "source": [
    "# Shapes for matrix multiplication\n",
    "tensor_A = torch.tensor([[1,2],\n",
    "                        [3,4],\n",
    "                        [5,6]])\n",
    "\n",
    "tensor_B = torch.tensor([[7,10],\n",
    "                        [8,11],\n",
    "                        [9,12]])\n",
    "\n",
    "torch.matmul(tensor_A, tensor_B)"
   ]
  },
  {
   "cell_type": "markdown",
   "id": "7f726f0b",
   "metadata": {},
   "source": [
    "The above error was intentional set to teach the concept of **shapes** in tensors and **transpose**"
   ]
  },
  {
   "cell_type": "markdown",
   "id": "62598108",
   "metadata": {},
   "source": [
    "To fix tensor shape issues, we can manipulate the shape of one of our tensors using a **transpose**\n",
    "\n",
    "**Transpose** switches the axes or dimensions of a given tenosr"
   ]
  },
  {
   "cell_type": "code",
   "execution_count": 27,
   "id": "bc86032a",
   "metadata": {},
   "outputs": [
    {
     "data": {
      "text/plain": [
       "tensor([[1, 3, 5],\n",
       "        [2, 4, 6]])"
      ]
     },
     "execution_count": 27,
     "metadata": {},
     "output_type": "execute_result"
    }
   ],
   "source": [
    "tensor_A.T"
   ]
  },
  {
   "cell_type": "code",
   "execution_count": 28,
   "id": "a365756e",
   "metadata": {},
   "outputs": [
    {
     "data": {
      "text/plain": [
       "tensor([[ 7,  8,  9],\n",
       "        [10, 11, 12]])"
      ]
     },
     "execution_count": 28,
     "metadata": {},
     "output_type": "execute_result"
    }
   ],
   "source": [
    "tensor_B.T"
   ]
  },
  {
   "cell_type": "code",
   "execution_count": 29,
   "id": "6c438c29",
   "metadata": {},
   "outputs": [
    {
     "data": {
      "text/plain": [
       "tensor([[ 27,  30,  33],\n",
       "        [ 61,  68,  75],\n",
       "        [ 95, 106, 117]])"
      ]
     },
     "execution_count": 29,
     "metadata": {},
     "output_type": "execute_result"
    }
   ],
   "source": [
    "# Matrix multiplication of tensor_A and the transpose of tensor_B\n",
    "torch.mm(tensor_A, tensor_B.T)"
   ]
  },
  {
   "cell_type": "code",
   "execution_count": 30,
   "id": "fc2086af",
   "metadata": {},
   "outputs": [
    {
     "data": {
      "text/plain": [
       "tensor([[1, 2],\n",
       "        [3, 4],\n",
       "        [5, 6]])"
      ]
     },
     "execution_count": 30,
     "metadata": {},
     "output_type": "execute_result"
    }
   ],
   "source": [
    "tensor_A"
   ]
  },
  {
   "cell_type": "markdown",
   "id": "f59dec70",
   "metadata": {},
   "source": [
    "### Finding the min, max, mean, sum etc (tensor aggregation)"
   ]
  },
  {
   "cell_type": "code",
   "execution_count": 31,
   "id": "3c42307c",
   "metadata": {},
   "outputs": [
    {
     "data": {
      "text/plain": [
       "tensor([ 0, 10, 20, 30, 40, 50, 60, 70, 80, 90])"
      ]
     },
     "execution_count": 31,
     "metadata": {},
     "output_type": "execute_result"
    }
   ],
   "source": [
    "x = torch.arange(0,100,10)\n",
    "x"
   ]
  },
  {
   "cell_type": "code",
   "execution_count": 32,
   "id": "89c206d1",
   "metadata": {},
   "outputs": [
    {
     "data": {
      "text/plain": [
       "tensor(0)"
      ]
     },
     "execution_count": 32,
     "metadata": {},
     "output_type": "execute_result"
    }
   ],
   "source": [
    "# Finding the minimum value in a tensor\n",
    "x.min()"
   ]
  },
  {
   "cell_type": "code",
   "execution_count": 33,
   "id": "22cf1eba",
   "metadata": {},
   "outputs": [
    {
     "data": {
      "text/plain": [
       "tensor(90)"
      ]
     },
     "execution_count": 33,
     "metadata": {},
     "output_type": "execute_result"
    }
   ],
   "source": [
    "# Finding the maximum value in a tensor\n",
    "x.max()"
   ]
  },
  {
   "cell_type": "code",
   "execution_count": 34,
   "id": "9c9f3a02",
   "metadata": {},
   "outputs": [
    {
     "data": {
      "text/plain": [
       "tensor(45., dtype=torch.float64)"
      ]
     },
     "execution_count": 34,
     "metadata": {},
     "output_type": "execute_result"
    }
   ],
   "source": [
    "# Finding the average\n",
    "# We can't find the average of a long(int64), mean accepts float\n",
    "torch.mean(x.type(torch.float64))"
   ]
  },
  {
   "cell_type": "code",
   "execution_count": 35,
   "id": "693e98c5",
   "metadata": {},
   "outputs": [
    {
     "data": {
      "text/plain": [
       "tensor(450)"
      ]
     },
     "execution_count": 35,
     "metadata": {},
     "output_type": "execute_result"
    }
   ],
   "source": [
    "# Find the sum\n",
    "x.sum()"
   ]
  },
  {
   "cell_type": "code",
   "execution_count": 36,
   "id": "56e9df3c",
   "metadata": {},
   "outputs": [
    {
     "name": "stdout",
     "output_type": "stream",
     "text": [
      "Position for the biggest element: 9\n",
      "Value of the biggest element: tensor(90)\n"
     ]
    }
   ],
   "source": [
    "# Finding the position of the maximum element \n",
    "temp = 0\n",
    "for i in range(len(x)):\n",
    "    if temp < i:\n",
    "        temp = i\n",
    "print('Position for the biggest element:',temp)\n",
    "print('Value of the biggest element:',x[temp])"
   ]
  },
  {
   "cell_type": "code",
   "execution_count": 37,
   "id": "10863043",
   "metadata": {},
   "outputs": [
    {
     "name": "stdout",
     "output_type": "stream",
     "text": [
      "Position for the smallest element: 0\n",
      "Value of the smallest element: tensor(0)\n"
     ]
    }
   ],
   "source": [
    "# Finding the position of the maximum element \n",
    "temp = 0\n",
    "for i in range(len(x)):\n",
    "    if temp > i:\n",
    "        temp = i\n",
    "print('Position for the smallest element:',temp)\n",
    "print('Value of the smallest element:',x[temp])"
   ]
  },
  {
   "cell_type": "markdown",
   "id": "2e0e082e",
   "metadata": {},
   "source": [
    "The `argimn()` returns the index position of the smallest value while `argmax()` returns the position of the maximum value"
   ]
  },
  {
   "cell_type": "code",
   "execution_count": 38,
   "id": "bf67bfa8",
   "metadata": {},
   "outputs": [
    {
     "data": {
      "text/plain": [
       "tensor(0)"
      ]
     },
     "execution_count": 38,
     "metadata": {},
     "output_type": "execute_result"
    }
   ],
   "source": [
    "# Using the argmin()\n",
    "x.argmin()"
   ]
  },
  {
   "cell_type": "code",
   "execution_count": 39,
   "id": "35602adc",
   "metadata": {},
   "outputs": [
    {
     "data": {
      "text/plain": [
       "tensor(9)"
      ]
     },
     "execution_count": 39,
     "metadata": {},
     "output_type": "execute_result"
    }
   ],
   "source": [
    "# Using the argmin()\n",
    "x.argmax()"
   ]
  },
  {
   "cell_type": "markdown",
   "id": "23232e58",
   "metadata": {},
   "source": [
    "### Reshaping, stacking, squeezing, and unsqueezing tensors"
   ]
  },
  {
   "cell_type": "markdown",
   "id": "42e17c33",
   "metadata": {},
   "source": [
    "1. Stacking - combine multiple tensors on top of each other (vstack) or side by side (hstack)\n",
    "2. Squeeze - removes all `1` dimensions from a tensor\n",
    "3. Unsqueezing - add a `1` dimension to a target tensor\n",
    "4. Permute - Return a view of input with dimensions permuted(swapped) in a certain way"
   ]
  },
  {
   "cell_type": "code",
   "execution_count": 40,
   "id": "af4b7c94",
   "metadata": {},
   "outputs": [
    {
     "data": {
      "text/plain": [
       "(tensor([1., 2., 3., 4., 5., 6., 7., 8., 9.]), torch.Size([9]))"
      ]
     },
     "execution_count": 40,
     "metadata": {},
     "output_type": "execute_result"
    }
   ],
   "source": [
    "x = torch.arange(1.,10.)\n",
    "x, x.shape"
   ]
  },
  {
   "cell_type": "code",
   "execution_count": 41,
   "id": "9e3916db",
   "metadata": {},
   "outputs": [
    {
     "data": {
      "text/plain": [
       "(tensor([[1., 2., 3., 4., 5., 6., 7., 8., 9.]]), torch.Size([1, 9]))"
      ]
     },
     "execution_count": 41,
     "metadata": {},
     "output_type": "execute_result"
    }
   ],
   "source": [
    "# Add an extra dimension\n",
    "x_reshaped = x.reshape(1,9)\n",
    "x_reshaped, x_reshaped.shape"
   ]
  },
  {
   "cell_type": "markdown",
   "id": "20391510",
   "metadata": {},
   "source": [
    "**Note:** The reshape values when multiplied should be the same as the size of the tensor you are trying to change e.g **x.reshape(1,9) <- 1 * 9 must be equal to the the size of x (x.size) <- 9**"
   ]
  },
  {
   "cell_type": "code",
   "execution_count": 42,
   "id": "942fa626",
   "metadata": {},
   "outputs": [
    {
     "data": {
      "text/plain": [
       "tensor([[1.],\n",
       "        [2.],\n",
       "        [3.],\n",
       "        [4.],\n",
       "        [5.],\n",
       "        [6.],\n",
       "        [7.],\n",
       "        [8.],\n",
       "        [9.]])"
      ]
     },
     "execution_count": 42,
     "metadata": {},
     "output_type": "execute_result"
    }
   ],
   "source": [
    "x_reshaped = x.reshape(9,1)\n",
    "x_reshaped"
   ]
  },
  {
   "cell_type": "markdown",
   "id": "9e636d00",
   "metadata": {},
   "source": [
    "View and reshape basically do the same thing\n",
    "\n",
    "**Note:** In changing the view of a tensor, the new tesnor which is the view of the specified initial tensor shares the same memory as the the initial tensor such that changes to the value of the view reflects on the initial tensor "
   ]
  },
  {
   "cell_type": "code",
   "execution_count": 43,
   "id": "cd03ddca",
   "metadata": {},
   "outputs": [
    {
     "data": {
      "text/plain": [
       "(tensor([[1., 2., 3., 4., 5., 6., 7., 8., 9.]]), torch.Size([1, 9]))"
      ]
     },
     "execution_count": 43,
     "metadata": {},
     "output_type": "execute_result"
    }
   ],
   "source": [
    "# Change the view \n",
    "z = x.view(1,9)\n",
    "z, z.shape"
   ]
  },
  {
   "cell_type": "code",
   "execution_count": 44,
   "id": "b256b25b",
   "metadata": {},
   "outputs": [
    {
     "data": {
      "text/plain": [
       "(tensor([[23.,  2.,  3.,  4.,  5.,  6.,  7.,  8.,  9.]]),\n",
       " tensor([23.,  2.,  3.,  4.,  5.,  6.,  7.,  8.,  9.]))"
      ]
     },
     "execution_count": 44,
     "metadata": {},
     "output_type": "execute_result"
    }
   ],
   "source": [
    "# Seeing the memory change in view\n",
    "# Both x and z where updated\n",
    "z[:,0] = 23\n",
    "z, x"
   ]
  },
  {
   "cell_type": "markdown",
   "id": "18da389b",
   "metadata": {},
   "source": [
    "### Stack tensors on top each other"
   ]
  },
  {
   "cell_type": "markdown",
   "id": "e42bfa5f",
   "metadata": {},
   "source": [
    "Stack takes a list of tensors and places them on top each other\n",
    "\n",
    "`dim = 0` specifies vertically stacking\n",
    "\n",
    "`dim = 1` specifies side-by-side stacking "
   ]
  },
  {
   "cell_type": "code",
   "execution_count": 45,
   "id": "a626c359",
   "metadata": {},
   "outputs": [
    {
     "data": {
      "text/plain": [
       "tensor([[23.,  2.,  3.,  4.,  5.,  6.,  7.,  8.,  9.],\n",
       "        [23.,  2.,  3.,  4.,  5.,  6.,  7.,  8.,  9.],\n",
       "        [23.,  2.,  3.,  4.,  5.,  6.,  7.,  8.,  9.]])"
      ]
     },
     "execution_count": 45,
     "metadata": {},
     "output_type": "execute_result"
    }
   ],
   "source": [
    "x_stacked = torch.stack([x,x,x], dim = 0)\n",
    "x_stacked"
   ]
  },
  {
   "cell_type": "code",
   "execution_count": 46,
   "id": "54a31a5e",
   "metadata": {},
   "outputs": [
    {
     "data": {
      "text/plain": [
       "tensor([[23., 23., 23.],\n",
       "        [ 2.,  2.,  2.],\n",
       "        [ 3.,  3.,  3.],\n",
       "        [ 4.,  4.,  4.],\n",
       "        [ 5.,  5.,  5.],\n",
       "        [ 6.,  6.,  6.],\n",
       "        [ 7.,  7.,  7.],\n",
       "        [ 8.,  8.,  8.],\n",
       "        [ 9.,  9.,  9.]])"
      ]
     },
     "execution_count": 46,
     "metadata": {},
     "output_type": "execute_result"
    }
   ],
   "source": [
    "x_stacked = torch.stack([x,x,x], dim = 1)\n",
    "x_stacked"
   ]
  },
  {
   "cell_type": "markdown",
   "id": "bc6833db",
   "metadata": {},
   "source": [
    "Look into the vstack and hstack in the  pytorch documentation"
   ]
  },
  {
   "cell_type": "code",
   "execution_count": 47,
   "id": "3f64831f",
   "metadata": {},
   "outputs": [
    {
     "data": {
      "text/plain": [
       "tensor([[23.,  2.,  3.,  4.,  5.,  6.,  7.,  8.,  9.],\n",
       "        [23.,  2.,  3.,  4.,  5.,  6.,  7.,  8.,  9.],\n",
       "        [23.,  2.,  3.,  4.,  5.,  6.,  7.,  8.,  9.]])"
      ]
     },
     "execution_count": 47,
     "metadata": {},
     "output_type": "execute_result"
    }
   ],
   "source": [
    "x_stacked = torch.vstack([x,x,x])\n",
    "x_stacked"
   ]
  },
  {
   "cell_type": "markdown",
   "id": "d43d93ff",
   "metadata": {},
   "source": [
    "### Squeezing tensors"
   ]
  },
  {
   "cell_type": "code",
   "execution_count": 48,
   "id": "4f687897",
   "metadata": {},
   "outputs": [
    {
     "data": {
      "text/plain": [
       "(tensor([[23.,  2.,  3.,  4.,  5.,  6.,  7.,  8.,  9.]]), torch.Size([1, 9]))"
      ]
     },
     "execution_count": 48,
     "metadata": {},
     "output_type": "execute_result"
    }
   ],
   "source": [
    "x_reshaped = x.reshape(1,9)\n",
    "x_reshaped, x_reshaped.shape"
   ]
  },
  {
   "cell_type": "code",
   "execution_count": 49,
   "id": "8985c6a1",
   "metadata": {},
   "outputs": [
    {
     "name": "stdout",
     "output_type": "stream",
     "text": [
      "tensor([23.,  2.,  3.,  4.,  5.,  6.,  7.,  8.,  9.])\n",
      "torch.Size([9])\n"
     ]
    }
   ],
   "source": [
    "x_squeeze = x_reshaped.squeeze()\n",
    "print(x_squeeze)\n",
    "print(x_squeeze.shape)"
   ]
  },
  {
   "cell_type": "markdown",
   "id": "8432bc5b",
   "metadata": {},
   "source": [
    "In the above, the dimension was reduced by removing one `[]`"
   ]
  },
  {
   "cell_type": "code",
   "execution_count": 50,
   "id": "cc5c0822",
   "metadata": {},
   "outputs": [
    {
     "name": "stdout",
     "output_type": "stream",
     "text": [
      "tensor([23.,  2.,  3.,  4.,  5.,  6.,  7.,  8.,  9.])\n",
      "torch.Size([9])\n"
     ]
    }
   ],
   "source": [
    "another_x_squeeze = x_squeeze.squeeze()\n",
    "print(another_x_squeeze)\n",
    "print(another_x_squeeze.shape)"
   ]
  },
  {
   "cell_type": "markdown",
   "id": "7f72cca7",
   "metadata": {},
   "source": [
    "**Note:** You can't further squeeze down a tensor that is already one dimensional"
   ]
  },
  {
   "cell_type": "code",
   "execution_count": 51,
   "id": "b3f0c096",
   "metadata": {},
   "outputs": [
    {
     "name": "stdout",
     "output_type": "stream",
     "text": [
      "tensor([[23.,  2.,  3.,  4.,  5.,  6.,  7.,  8.,  9.]])\n",
      "torch.Size([1, 9])\n"
     ]
    }
   ],
   "source": [
    "# Unsqueeze <- Adding the dimension\n",
    "x_unsqueeze = x_squeeze.unsqueeze(dim = 0)\n",
    "print(x_unsqueeze)\n",
    "print(x_unsqueeze.shape)"
   ]
  },
  {
   "cell_type": "markdown",
   "id": "5fee9d9e",
   "metadata": {},
   "source": [
    "`torch.permute()` returns a view of the original tensor with its dimensions permuted"
   ]
  },
  {
   "cell_type": "code",
   "execution_count": 52,
   "id": "e8e384d8",
   "metadata": {},
   "outputs": [
    {
     "data": {
      "text/plain": [
       "tensor([[[-4.5875e-01, -4.6894e-01,  2.4933e+00, -4.2741e-01,  4.7984e-01],\n",
       "         [ 1.7477e+00,  1.1843e+00,  2.6094e-04,  7.9158e-01,  1.0891e+00],\n",
       "         [-8.0911e-01, -9.7411e-02, -1.6193e+00, -1.0262e+00,  3.6766e-01]],\n",
       "\n",
       "        [[-4.2474e-02,  1.2900e+00, -4.4201e-01,  1.8517e+00, -8.2442e-01],\n",
       "         [ 4.0627e-01,  8.3308e-01, -4.8363e-01,  2.3178e-01,  7.8935e-01],\n",
       "         [-2.8747e-01,  2.4914e-01, -1.1490e+00, -4.4767e-01, -1.5139e+00]]])"
      ]
     },
     "execution_count": 52,
     "metadata": {},
     "output_type": "execute_result"
    }
   ],
   "source": [
    "# Tensor Permute\n",
    "x = torch.randn(2,3,5)\n",
    "x"
   ]
  },
  {
   "cell_type": "code",
   "execution_count": 53,
   "id": "3d49610c",
   "metadata": {},
   "outputs": [
    {
     "name": "stdout",
     "output_type": "stream",
     "text": [
      "torch.Size([2, 3, 5])\n"
     ]
    }
   ],
   "source": [
    "print(x.size())"
   ]
  },
  {
   "cell_type": "code",
   "execution_count": 54,
   "id": "c39ab87d",
   "metadata": {},
   "outputs": [
    {
     "name": "stdout",
     "output_type": "stream",
     "text": [
      "tensor([[[-4.5875e-01,  1.7477e+00, -8.0911e-01],\n",
      "         [-4.2474e-02,  4.0627e-01, -2.8747e-01]],\n",
      "\n",
      "        [[-4.6894e-01,  1.1843e+00, -9.7411e-02],\n",
      "         [ 1.2900e+00,  8.3308e-01,  2.4914e-01]],\n",
      "\n",
      "        [[ 2.4933e+00,  2.6094e-04, -1.6193e+00],\n",
      "         [-4.4201e-01, -4.8363e-01, -1.1490e+00]],\n",
      "\n",
      "        [[-4.2741e-01,  7.9158e-01, -1.0262e+00],\n",
      "         [ 1.8517e+00,  2.3178e-01, -4.4767e-01]],\n",
      "\n",
      "        [[ 4.7984e-01,  1.0891e+00,  3.6766e-01],\n",
      "         [-8.2442e-01,  7.8935e-01, -1.5139e+00]]])\n",
      "torch.Size([5, 2, 3])\n"
     ]
    }
   ],
   "source": [
    "x_permute = torch.permute(x, (2,0,1))\n",
    "print(x_permute)\n",
    "print(x_permute.shape)"
   ]
  },
  {
   "cell_type": "markdown",
   "id": "20780bd0",
   "metadata": {},
   "source": [
    "This is how permute is working, the initial tensor of x has a shape or dimension of **[2,3,5]** now with permute, we are changing the dimension position [2,0,1].\n",
    "\n",
    "**[2,3,5]** this means position 0 is [2], 1 is [3] and 2 is [5]\n",
    "\n",
    "Now with the permute **[2,0,1]** we are basically saying the dimension of the tensor is **[5,2,3]** from the original shape of **[2,3,5]**\n",
    "\n",
    "Permute also uses view (shared memory)"
   ]
  },
  {
   "cell_type": "markdown",
   "id": "e32aa2bf",
   "metadata": {},
   "source": [
    "### Indexing\n",
    "Indexing in Pytorch is similar to indexinng in numpy and regular list in Python"
   ]
  },
  {
   "cell_type": "code",
   "execution_count": 55,
   "id": "c6c64f48",
   "metadata": {},
   "outputs": [
    {
     "name": "stdout",
     "output_type": "stream",
     "text": [
      "tensor([1, 2, 3])\n",
      "tensor([1, 2, 3])\n"
     ]
    }
   ],
   "source": [
    "x = torch.tensor([[1,2,3],\n",
    "                 [4,5,6,],\n",
    "                 [7,8,9]])\n",
    "print(x[0,:])\n",
    "print(x[0])"
   ]
  },
  {
   "cell_type": "code",
   "execution_count": 56,
   "id": "9b994a9d",
   "metadata": {},
   "outputs": [
    {
     "name": "stdout",
     "output_type": "stream",
     "text": [
      "tensor(5)\n"
     ]
    }
   ],
   "source": [
    "print(x[1][1])"
   ]
  },
  {
   "cell_type": "markdown",
   "id": "23517bf5",
   "metadata": {},
   "source": [
    "We can start with a NumPy array, then we can convert it to a tensor using `torch.from_numpy(ndarray)`\n",
    "\n",
    "We can also conver from tensor to NumPy using `torch.Tensor.numpy()`"
   ]
  },
  {
   "cell_type": "code",
   "execution_count": 57,
   "id": "fd0ec0e6",
   "metadata": {},
   "outputs": [
    {
     "data": {
      "text/plain": [
       "(array([1., 2., 3., 4., 5., 6., 7.]),\n",
       " tensor([1., 2., 3., 4., 5., 6., 7.], dtype=torch.float64))"
      ]
     },
     "execution_count": 57,
     "metadata": {},
     "output_type": "execute_result"
    }
   ],
   "source": [
    "# NumPy array to tensor\n",
    "import numpy as np\n",
    "\n",
    "array = np.arange(1.0,8.0)\n",
    "tensor = torch.from_numpy(array)\n",
    "array,tensor"
   ]
  },
  {
   "cell_type": "markdown",
   "id": "ae6c0c2d",
   "metadata": {},
   "source": [
    "**Note:** The deafult data type for NumPy is float64 but the default for tensor is float32. Incase you want it in float32 in tensor, you have to specify"
   ]
  },
  {
   "cell_type": "code",
   "execution_count": 58,
   "id": "0bcfc57f",
   "metadata": {},
   "outputs": [
    {
     "data": {
      "text/plain": [
       "(tensor([1., 1., 1., 1., 1., 1., 1.]),\n",
       " array([1., 1., 1., 1., 1., 1., 1.], dtype=float32))"
      ]
     },
     "execution_count": 58,
     "metadata": {},
     "output_type": "execute_result"
    }
   ],
   "source": [
    "# Tensor to NumPy\n",
    "tensor = torch.ones(7)\n",
    "numpy_tensor = tensor.numpy()\n",
    "# The numpy reflects the data type of the tensor \n",
    "tensor, numpy_tensor"
   ]
  },
  {
   "cell_type": "markdown",
   "id": "a3659ad4",
   "metadata": {},
   "source": [
    "### Reproducibility in neural networks\n",
    "if you run torch.rand() different times, you get different numbers at each instance. To reduce the randomness we use **random seed**.\n",
    "\n",
    "**Random Seed**: ensures that every time you run your code, you'll get the same results"
   ]
  },
  {
   "cell_type": "code",
   "execution_count": 59,
   "id": "3fe78f44",
   "metadata": {},
   "outputs": [
    {
     "name": "stdout",
     "output_type": "stream",
     "text": [
      "tensor([[0.1354, 0.8239, 0.5122, 0.6082],\n",
      "        [0.8122, 0.1626, 0.6273, 0.9702],\n",
      "        [0.1870, 0.9905, 0.9646, 0.7833]])\n",
      "tensor([[0.3176, 0.3208, 0.4472, 0.2334],\n",
      "        [0.4384, 0.8206, 0.9440, 0.1004],\n",
      "        [0.2779, 0.6475, 0.1784, 0.0917]])\n",
      "tensor([[False, False, False, False],\n",
      "        [False, False, False, False],\n",
      "        [False, False, False, False]])\n"
     ]
    }
   ],
   "source": [
    "random_tensor_A = torch.rand(3,4)\n",
    "random_tensor_B = torch.rand(3,4)\n",
    "print(random_tensor_A)\n",
    "print(random_tensor_B)\n",
    "print(random_tensor_A == random_tensor_B)"
   ]
  },
  {
   "cell_type": "code",
   "execution_count": 60,
   "id": "507e049e",
   "metadata": {},
   "outputs": [
    {
     "name": "stdout",
     "output_type": "stream",
     "text": [
      "tensor([[0.8823, 0.9150, 0.3829, 0.9593],\n",
      "        [0.3904, 0.6009, 0.2566, 0.7936],\n",
      "        [0.9408, 0.1332, 0.9346, 0.5936]])\n",
      "tensor([[0.8823, 0.9150, 0.3829, 0.9593],\n",
      "        [0.3904, 0.6009, 0.2566, 0.7936],\n",
      "        [0.9408, 0.1332, 0.9346, 0.5936]])\n",
      "tensor([[True, True, True, True],\n",
      "        [True, True, True, True],\n",
      "        [True, True, True, True]])\n"
     ]
    }
   ],
   "source": [
    "# Setting random seed\n",
    "RANDOM_SEED = 42\n",
    "torch.manual_seed(RANDOM_SEED)\n",
    "\n",
    "random_tensor_C = torch.rand(3,4)\n",
    "\n",
    "# We have to include the random seed before every rand() call\n",
    "torch.manual_seed(RANDOM_SEED)\n",
    "\n",
    "random_tensor_D = torch.rand(3,4)\n",
    "\n",
    "print(random_tensor_C)\n",
    "print(random_tensor_D)\n",
    "print(random_tensor_C == random_tensor_D)"
   ]
  },
  {
   "cell_type": "markdown",
   "id": "c4e8d17d",
   "metadata": {},
   "source": [
    "### Chcek for GPU in PyTorch"
   ]
  },
  {
   "cell_type": "code",
   "execution_count": 61,
   "id": "f55d7a92",
   "metadata": {},
   "outputs": [
    {
     "data": {
      "text/plain": [
       "False"
      ]
     },
     "execution_count": 61,
     "metadata": {},
     "output_type": "execute_result"
    }
   ],
   "source": [
    "torch.cuda.is_available()"
   ]
  },
  {
   "cell_type": "code",
   "execution_count": 62,
   "id": "bf33b3aa",
   "metadata": {},
   "outputs": [
    {
     "data": {
      "text/plain": [
       "'cpu'"
      ]
     },
     "execution_count": 62,
     "metadata": {},
     "output_type": "execute_result"
    }
   ],
   "source": [
    "# Setup device agnostic code\n",
    "device = 'cuda' if torch.cuda.is_available() else 'cpu'\n",
    "device"
   ]
  },
  {
   "cell_type": "code",
   "execution_count": 63,
   "id": "8952144c",
   "metadata": {},
   "outputs": [
    {
     "name": "stdout",
     "output_type": "stream",
     "text": [
      "tensor([[0.8694, 0.5677]]) cpu\n"
     ]
    }
   ],
   "source": [
    "# Putting tensors and models on GPU\n",
    "tensor = torch.rand(1,2)\n",
    "print(tensor, tensor.device)"
   ]
  },
  {
   "cell_type": "code",
   "execution_count": 64,
   "id": "b7848fd0",
   "metadata": {},
   "outputs": [
    {
     "data": {
      "text/plain": [
       "(tensor([[0.8694, 0.5677]]), device(type='cpu'))"
      ]
     },
     "execution_count": 64,
     "metadata": {},
     "output_type": "execute_result"
    }
   ],
   "source": [
    "# Move tensor to GPU if available\n",
    "tensor_on_gpu = tensor.to(device)\n",
    "tensor_on_gpu, tensor_on_gpu.device"
   ]
  },
  {
   "cell_type": "code",
   "execution_count": 65,
   "id": "3d952e53",
   "metadata": {},
   "outputs": [
    {
     "data": {
      "text/plain": [
       "(tensor([[0.8694, 0.5677]]), device(type='cpu'))"
      ]
     },
     "execution_count": 65,
     "metadata": {},
     "output_type": "execute_result"
    }
   ],
   "source": [
    "# Moving tensors back to the CPU\n",
    "tensor_to_cpu = tensor.cpu()\n",
    "tensor_to_cpu, tensor_to_cpu.device"
   ]
  },
  {
   "cell_type": "markdown",
   "id": "c897ad7a",
   "metadata": {},
   "source": [
    "# PyTorch Workflow"
   ]
  },
  {
   "cell_type": "code",
   "execution_count": 66,
   "id": "571569c5",
   "metadata": {},
   "outputs": [],
   "source": [
    "from torch import nn\n",
    "import matplotlib.pyplot as plt"
   ]
  },
  {
   "cell_type": "code",
   "execution_count": 67,
   "id": "ab08f9e3",
   "metadata": {},
   "outputs": [
    {
     "data": {
      "text/plain": [
       "(tensor([[0.0000],\n",
       "         [0.0200],\n",
       "         [0.0400],\n",
       "         [0.0600],\n",
       "         [0.0800],\n",
       "         [0.1000],\n",
       "         [0.1200],\n",
       "         [0.1400],\n",
       "         [0.1600],\n",
       "         [0.1800]]),\n",
       " tensor([[0.3000],\n",
       "         [0.3140],\n",
       "         [0.3280],\n",
       "         [0.3420],\n",
       "         [0.3560],\n",
       "         [0.3700],\n",
       "         [0.3840],\n",
       "         [0.3980],\n",
       "         [0.4120],\n",
       "         [0.4260]]))"
      ]
     },
     "execution_count": 67,
     "metadata": {},
     "output_type": "execute_result"
    }
   ],
   "source": [
    "# Linear regression\n",
    "weight = 0.7\n",
    "bias = 0.3\n",
    "\n",
    "# Creating the data\n",
    "start = 0\n",
    "end = 1\n",
    "step = 0.02\n",
    "X = torch.arange(start,end,step).unsqueeze(dim =1)\n",
    "y= weight * X + bias\n",
    "\n",
    "X[:10], y[:10]"
   ]
  },
  {
   "cell_type": "code",
   "execution_count": 68,
   "id": "f1d49d10",
   "metadata": {},
   "outputs": [
    {
     "data": {
      "text/plain": [
       "(50, 50)"
      ]
     },
     "execution_count": 68,
     "metadata": {},
     "output_type": "execute_result"
    }
   ],
   "source": [
    "len(X), len(y)"
   ]
  },
  {
   "cell_type": "code",
   "execution_count": 69,
   "id": "5ff7451f",
   "metadata": {},
   "outputs": [
    {
     "data": {
      "text/plain": [
       "(40, 40, 10, 10)"
      ]
     },
     "execution_count": 69,
     "metadata": {},
     "output_type": "execute_result"
    }
   ],
   "source": [
    "# Create a train/test split\n",
    "train_split = int(0.8 * len(X))\n",
    "X_train,X_test,y_train,y_test = X[:train_split], X[train_split:], y[:train_split], y[train_split:]\n",
    "\n",
    "len(X_train), len(y_train), len(X_test), len(y_test)"
   ]
  },
  {
   "cell_type": "code",
   "execution_count": 70,
   "id": "fa5cd6ef",
   "metadata": {},
   "outputs": [],
   "source": [
    "# Visualizing the data\n",
    "def plot_predicitons(train_data = X_train, train_labels = y_train, test_data= X_test, \n",
    "                     test_labels= y_test, predictions= None):\n",
    "    \"\"\"\n",
    "    Plots training data, test data and compares predicitons\n",
    "    \"\"\"\n",
    "    \n",
    "    plt.figure(figsize=(10,7))\n",
    "    # Plotting training data\n",
    "    plt.scatter(train_data, train_labels, c='b', s=4, label= 'Training data')\n",
    "    \n",
    "    # Plotting testing data\n",
    "    plt.scatter(test_data, test_labels, c='g', s=4, label= 'Testing data')\n",
    "    \n",
    "    # Plotting predictions\n",
    "    if predictions is not None:\n",
    "        plt.scatter(test_data, predictions, c= 'r', s=4, label = 'Predictions')\n",
    "    \n",
    "    plt.legend(prop={'size':14})\n",
    "        "
   ]
  },
  {
   "cell_type": "code",
   "execution_count": 71,
   "id": "624f8ecf",
   "metadata": {},
   "outputs": [
    {
     "data": {
      "image/png": "[encoded data removed]",
      "text/plain": [
       "<Figure size 1000x700 with 1 Axes>"
      ]
     },
     "metadata": {},
     "output_type": "display_data"
    }
   ],
   "source": [
    "plot_predicitons()"
   ]
  },
  {
   "cell_type": "code",
   "execution_count": 72,
   "id": "88a6241c",
   "metadata": {},
   "outputs": [],
   "source": [
    "# Create a linear regression model class\n",
    "class LinearRegressionModel(nn.Module): # Almost everything in PyTorch inherits from nn.Module\n",
    "    def __init__(self):\n",
    "        super().__init__()\n",
    "        self.weights = nn.Parameter(torch.randn(1, requires_grad= True, dtype=torch.float))\n",
    "        self.bias = nn.Parameter(torch.randn(1, requires_grad= True, dtype=torch.float))\n",
    "        \n",
    "        # Forward method to define the computation in the model       \n",
    "    def forward(self, x: torch.Tensor):\n",
    "        return self.weights * x + self.bias"
   ]
  },
  {
   "cell_type": "markdown",
   "id": "974f150c",
   "metadata": {},
   "source": [
    "Checking what we have created in the model using `.parameters()`"
   ]
  },
  {
   "cell_type": "code",
   "execution_count": 73,
   "id": "318ec54f",
   "metadata": {},
   "outputs": [
    {
     "data": {
      "text/plain": [
       "[Parameter containing:\n",
       " tensor([0.3367], requires_grad=True),\n",
       " Parameter containing:\n",
       " tensor([0.1288], requires_grad=True)]"
      ]
     },
     "execution_count": 73,
     "metadata": {},
     "output_type": "execute_result"
    }
   ],
   "source": [
    "torch.manual_seed(42)\n",
    "\n",
    "model_0 = LinearRegressionModel()\n",
    "\n",
    "list(model_0.parameters())"
   ]
  },
  {
   "cell_type": "markdown",
   "id": "8996f384",
   "metadata": {},
   "source": [
    "Using `state_dict()` to see the parameters in the model"
   ]
  },
  {
   "cell_type": "code",
   "execution_count": 74,
   "id": "2e19c4bb",
   "metadata": {},
   "outputs": [
    {
     "data": {
      "text/plain": [
       "OrderedDict([('weights', tensor([0.3367])), ('bias', tensor([0.1288]))])"
      ]
     },
     "execution_count": 74,
     "metadata": {},
     "output_type": "execute_result"
    }
   ],
   "source": [
    "model_0.state_dict()"
   ]
  },
  {
   "cell_type": "markdown",
   "id": "302948df",
   "metadata": {},
   "source": [
    "Making Predictions using `torch.inference_mode()`"
   ]
  },
  {
   "cell_type": "code",
   "execution_count": 75,
   "id": "c4ce1583",
   "metadata": {},
   "outputs": [
    {
     "data": {
      "text/plain": [
       "tensor([[0.3982],\n",
       "        [0.4049],\n",
       "        [0.4116],\n",
       "        [0.4184],\n",
       "        [0.4251],\n",
       "        [0.4318],\n",
       "        [0.4386],\n",
       "        [0.4453],\n",
       "        [0.4520],\n",
       "        [0.4588]])"
      ]
     },
     "execution_count": 75,
     "metadata": {},
     "output_type": "execute_result"
    }
   ],
   "source": [
    "with torch.inference_mode():\n",
    "    y_preds = model_0(X_test)\n",
    "\n",
    "y_preds"
   ]
  },
  {
   "cell_type": "code",
   "execution_count": 76,
   "id": "24a79479",
   "metadata": {},
   "outputs": [
    {
     "data": {
      "image/png": "[encoded data removed]",
      "text/plain": [
       "<Figure size 1000x700 with 1 Axes>"
      ]
     },
     "metadata": {},
     "output_type": "display_data"
    }
   ],
   "source": [
    "plot_predicitons(predictions = y_preds)"
   ]
  },
  {
   "cell_type": "markdown",
   "id": "6660c0f3",
   "metadata": {},
   "source": [
    "Model predicitions are really far from the actual values"
   ]
  },
  {
   "cell_type": "markdown",
   "id": "c2c0647a",
   "metadata": {},
   "source": [
    "### Using the loss function"
   ]
  },
  {
   "cell_type": "code",
   "execution_count": 77,
   "id": "94cf0d47",
   "metadata": {},
   "outputs": [
    {
     "name": "stdout",
     "output_type": "stream",
     "text": [
      "L1Loss()\n"
     ]
    }
   ],
   "source": [
    "# Setup a loss function\n",
    "loss_fn = nn.L1Loss()\n",
    "print(loss_fn)\n",
    "\n",
    "#Setting up the Optimizer (using Stochastic Gradient Descent)\n",
    "optimizer = torch.optim.SGD(params = model_0.parameters(), lr = 0.01)"
   ]
  },
  {
   "cell_type": "markdown",
   "id": "f6e451ae",
   "metadata": {},
   "source": [
    "### Building a training and testing loop "
   ]
  },
  {
   "cell_type": "code",
   "execution_count": 78,
   "id": "7cb191d7",
   "metadata": {},
   "outputs": [
    {
     "name": "stdout",
     "output_type": "stream",
     "text": [
      "Epoch: 0 | Loss: 0.31288138031959534 | Test loss: 0.48106518387794495 \n",
      "OrderedDict([('weights', tensor([0.3406])), ('bias', tensor([0.1388]))])\n",
      "Epoch: 10 | Loss: 0.1976713240146637 | Test loss: 0.3463551998138428 \n",
      "OrderedDict([('weights', tensor([0.3796])), ('bias', tensor([0.2388]))])\n",
      "Epoch: 20 | Loss: 0.08908725529909134 | Test loss: 0.21729660034179688 \n",
      "OrderedDict([('weights', tensor([0.4184])), ('bias', tensor([0.3333]))])\n",
      "Epoch: 30 | Loss: 0.053148526698350906 | Test loss: 0.14464017748832703 \n",
      "OrderedDict([('weights', tensor([0.4512])), ('bias', tensor([0.3768]))])\n",
      "Epoch: 40 | Loss: 0.04543796554207802 | Test loss: 0.11360953003168106 \n",
      "OrderedDict([('weights', tensor([0.4748])), ('bias', tensor([0.3868]))])\n",
      "Epoch: 50 | Loss: 0.04167863354086876 | Test loss: 0.09919948130846024 \n",
      "OrderedDict([('weights', tensor([0.4938])), ('bias', tensor([0.3843]))])\n",
      "Epoch: 60 | Loss: 0.03818932920694351 | Test loss: 0.08886633068323135 \n",
      "OrderedDict([('weights', tensor([0.5116])), ('bias', tensor([0.3788]))])\n",
      "Epoch: 70 | Loss: 0.03476089984178543 | Test loss: 0.0805937647819519 \n",
      "OrderedDict([('weights', tensor([0.5288])), ('bias', tensor([0.3718]))])\n",
      "Epoch: 80 | Loss: 0.03132382780313492 | Test loss: 0.07232122868299484 \n",
      "OrderedDict([('weights', tensor([0.5459])), ('bias', tensor([0.3648]))])\n",
      "Epoch: 90 | Loss: 0.02788739837706089 | Test loss: 0.06473556160926819 \n",
      "OrderedDict([('weights', tensor([0.5629])), ('bias', tensor([0.3573]))])\n",
      "Epoch: 100 | Loss: 0.024458957836031914 | Test loss: 0.05646304413676262 \n",
      "OrderedDict([('weights', tensor([0.5800])), ('bias', tensor([0.3503]))])\n",
      "Epoch: 110 | Loss: 0.021020207554101944 | Test loss: 0.04819049686193466 \n",
      "OrderedDict([('weights', tensor([0.5972])), ('bias', tensor([0.3433]))])\n",
      "Epoch: 120 | Loss: 0.01758546568453312 | Test loss: 0.04060482233762741 \n",
      "OrderedDict([('weights', tensor([0.6141])), ('bias', tensor([0.3358]))])\n",
      "Epoch: 130 | Loss: 0.014155393466353416 | Test loss: 0.03233227878808975 \n",
      "OrderedDict([('weights', tensor([0.6313])), ('bias', tensor([0.3288]))])\n",
      "Epoch: 140 | Loss: 0.010716589167714119 | Test loss: 0.024059748277068138 \n",
      "OrderedDict([('weights', tensor([0.6485])), ('bias', tensor([0.3218]))])\n",
      "Epoch: 150 | Loss: 0.0072835334576666355 | Test loss: 0.016474086791276932 \n",
      "OrderedDict([('weights', tensor([0.6654])), ('bias', tensor([0.3143]))])\n",
      "Epoch: 160 | Loss: 0.0038517764769494534 | Test loss: 0.008201557211577892 \n",
      "OrderedDict([('weights', tensor([0.6826])), ('bias', tensor([0.3073]))])\n",
      "Epoch: 170 | Loss: 0.008932482451200485 | Test loss: 0.005023092031478882 \n",
      "OrderedDict([('weights', tensor([0.6951])), ('bias', tensor([0.2993]))])\n",
      "Epoch: 180 | Loss: 0.008932482451200485 | Test loss: 0.005023092031478882 \n",
      "OrderedDict([('weights', tensor([0.6951])), ('bias', tensor([0.2993]))])\n",
      "Epoch: 190 | Loss: 0.008932482451200485 | Test loss: 0.005023092031478882 \n",
      "OrderedDict([('weights', tensor([0.6951])), ('bias', tensor([0.2993]))])\n"
     ]
    }
   ],
   "source": [
    "epochs = 200\n",
    "\n",
    "# Tracking different values\n",
    "epoch_count = []\n",
    "loss_values = []\n",
    "test_loss_values = []\n",
    "\n",
    "# Trying to minimize the gradient\n",
    "for epoch in range(epochs):\n",
    "    # Set the model to trainig mode\n",
    "    model_0.train()\n",
    "    \n",
    "    # Forward pass\n",
    "    y_pred = model_0(X_train)\n",
    "    \n",
    "    # Calculate the loss function\n",
    "    loss = loss_fn(y_pred, y_train)\n",
    "    \n",
    "    # Optimizer zero grad\n",
    "    optimizer.zero_grad()\n",
    "    \n",
    "    # Perform back propagation\n",
    "    loss.backward()\n",
    "    \n",
    "    # Step the optimizer(perform gradient descent)\n",
    "    optimizer.step() # Zero the values of the  optimizer after every iteration\n",
    "    \n",
    "    # Testing \n",
    "    model_0.eval() # Turns off unneeded settings for faster computation during evaluation (e.g dropout, batchnorm)\n",
    "    \n",
    "    with torch.inference_mode(): # Turns of gradient tracking\n",
    "        test_pred = model_0(X_test)\n",
    "        test_loss = loss_fn(test_pred, y_test)\n",
    "        \n",
    "        if epoch % 10 == 0:\n",
    "            epoch_count.append(epoch)\n",
    "            loss_values.append(loss)\n",
    "            test_loss_values.append(test_loss)\n",
    "            \n",
    "            print(f\"Epoch: {epoch} | Loss: {loss} | Test loss: {test_loss} \")\n",
    "    \n",
    "            # Print out model state_dict\n",
    "            print(model_0.state_dict())"
   ]
  },
  {
   "cell_type": "code",
   "execution_count": 79,
   "id": "2959c44c",
   "metadata": {},
   "outputs": [
    {
     "data": {
      "text/plain": [
       "<matplotlib.legend.Legend at 0x171aa306a00>"
      ]
     },
     "execution_count": 79,
     "metadata": {},
     "output_type": "execute_result"
    },
    {
     "data": {
      "image/png": "[encoded data removed]",
      "text/plain": [
       "<Figure size 640x480 with 1 Axes>"
      ]
     },
     "metadata": {},
     "output_type": "display_data"
    }
   ],
   "source": [
    "# Plot the loss curve\n",
    "plt.plot(epoch_count,  np.array(torch.tensor(loss_values).numpy()) , label = 'Train loss')\n",
    "plt.plot(epoch_count, np.array(torch.tensor(test_loss_values).numpy()), label = 'Test loss')\n",
    "plt.title('Training and test loss curves')\n",
    "plt.ylabel('Loss')\n",
    "plt.xlabel('Epochs')\n",
    "plt.legend()"
   ]
  },
  {
   "cell_type": "code",
   "execution_count": 80,
   "id": "dc83d03d",
   "metadata": {},
   "outputs": [],
   "source": [
    "with torch.inference_mode():\n",
    "    y_preds_new = model_0(X_test)\n"
   ]
  },
  {
   "cell_type": "markdown",
   "id": "261d2841",
   "metadata": {},
   "source": [
    "By running one epoch, we see that the parameters i.e the weight and the bias have been updated (improving to the actual weight and bias specified)"
   ]
  },
  {
   "cell_type": "code",
   "execution_count": 81,
   "id": "d22571bd",
   "metadata": {},
   "outputs": [
    {
     "data": {
      "image/png": "[encoded data removed]",
      "text/plain": [
       "<Figure size 1000x700 with 1 Axes>"
      ]
     },
     "metadata": {},
     "output_type": "display_data"
    }
   ],
   "source": [
    "plot_predicitons(predictions = y_preds)"
   ]
  },
  {
   "cell_type": "code",
   "execution_count": 82,
   "id": "56ab0f38",
   "metadata": {},
   "outputs": [
    {
     "data": {
      "image/png": "[encoded data removed]",
      "text/plain": [
       "<Figure size 1000x700 with 1 Axes>"
      ]
     },
     "metadata": {},
     "output_type": "display_data"
    }
   ],
   "source": [
    "plot_predicitons(predictions = y_preds_new)"
   ]
  },
  {
   "cell_type": "markdown",
   "id": "a4ed741c",
   "metadata": {},
   "source": [
    "Loss reduces over time"
   ]
  },
  {
   "cell_type": "markdown",
   "id": "bf5d2674",
   "metadata": {},
   "source": [
    "### Saving a model in PyTorch\n",
    "\n",
    "1. `torch.save()` - save model in pickle format\n",
    "2. `torch.load()`\n",
    "3. `torch.nn.Module.load_state_dict()` - allows you to load a model's saved state dictionary"
   ]
  },
  {
   "cell_type": "code",
   "execution_count": 83,
   "id": "5d3ffcfe",
   "metadata": {},
   "outputs": [
    {
     "name": "stdout",
     "output_type": "stream",
     "text": [
      "Saving model to: documents\\models\\very_first_model.pt\n"
     ]
    }
   ],
   "source": [
    "# Saving the model\n",
    "from pathlib import Path\n",
    "\n",
    "# Create models directory\n",
    "MODEL_PATH = Path('documents/models')\n",
    "MODEL_PATH.mkdir(parents= True, exist_ok = True)\n",
    "\n",
    "# Create a model save path\n",
    "MODEL_NAME = 'very_first_model.pt'\n",
    "MODEL_SAVE_PATH = MODEL_PATH / MODEL_NAME\n",
    "\n",
    "# Save the model's state_dict\n",
    "print(f'Saving model to: {MODEL_SAVE_PATH}')\n",
    "torch.save(obj = model_0.state_dict(), f = MODEL_SAVE_PATH)"
   ]
  },
  {
   "cell_type": "markdown",
   "id": "6aec266e",
   "metadata": {},
   "source": [
    "### Loading the saved model"
   ]
  },
  {
   "cell_type": "markdown",
   "id": "40640fa4",
   "metadata": {},
   "source": [
    "To load saved model we have to instantiate a new instance of our model class"
   ]
  },
  {
   "cell_type": "code",
   "execution_count": 84,
   "id": "32e1d9b3",
   "metadata": {},
   "outputs": [],
   "source": [
    "loaded_model_0 = LinearRegressionModel()"
   ]
  },
  {
   "cell_type": "code",
   "execution_count": 85,
   "id": "e1fc3555",
   "metadata": {},
   "outputs": [
    {
     "data": {
      "text/plain": [
       "OrderedDict([('weights', tensor([0.2345])), ('bias', tensor([0.2303]))])"
      ]
     },
     "execution_count": 85,
     "metadata": {},
     "output_type": "execute_result"
    }
   ],
   "source": [
    "# Parameters before loading saved model parameters\n",
    "loaded_model_0.state_dict()"
   ]
  },
  {
   "cell_type": "markdown",
   "id": "f17c1a7c",
   "metadata": {},
   "source": [
    "Load the saved model's `state_dict` (this will update the parameters of the new instance)"
   ]
  },
  {
   "cell_type": "code",
   "execution_count": 86,
   "id": "1564c8b3",
   "metadata": {},
   "outputs": [
    {
     "data": {
      "text/plain": [
       "<All keys matched successfully>"
      ]
     },
     "execution_count": 86,
     "metadata": {},
     "output_type": "execute_result"
    }
   ],
   "source": [
    "loaded_model_0.load_state_dict(torch.load(f = MODEL_SAVE_PATH))"
   ]
  },
  {
   "cell_type": "code",
   "execution_count": 87,
   "id": "f2f14591",
   "metadata": {},
   "outputs": [
    {
     "data": {
      "text/plain": [
       "OrderedDict([('weights', tensor([0.6990])), ('bias', tensor([0.3093]))])"
      ]
     },
     "execution_count": 87,
     "metadata": {},
     "output_type": "execute_result"
    }
   ],
   "source": [
    "# Parameters after loading saved model parameters\n",
    "loaded_model_0.state_dict()"
   ]
  },
  {
   "cell_type": "code",
   "execution_count": 88,
   "id": "ea42f0bd",
   "metadata": {},
   "outputs": [
    {
     "data": {
      "text/plain": [
       "tensor([[0.8685],\n",
       "        [0.8825],\n",
       "        [0.8965],\n",
       "        [0.9105],\n",
       "        [0.9245],\n",
       "        [0.9384],\n",
       "        [0.9524],\n",
       "        [0.9664],\n",
       "        [0.9804],\n",
       "        [0.9944]])"
      ]
     },
     "execution_count": 88,
     "metadata": {},
     "output_type": "execute_result"
    }
   ],
   "source": [
    "loaded_model_0.eval()\n",
    "with torch.inference_mode():\n",
    "    loaded_model_preds = loaded_model_0(X_test)\n",
    "loaded_model_preds"
   ]
  },
  {
   "cell_type": "markdown",
   "id": "93947297",
   "metadata": {},
   "source": [
    " ### Neural networks classification with PyTorch \n"
   ]
  },
  {
   "cell_type": "code",
   "execution_count": 89,
   "id": "7e5d56c1",
   "metadata": {},
   "outputs": [],
   "source": [
    "import sklearn\n",
    "from sklearn.datasets import make_circles\n",
    "\n",
    "# Make 1000 samples\n",
    "n_samples = 1000\n",
    "\n",
    "# Create circles\n",
    "X,y = make_circles(n_samples, \n",
    "                   noise = 0.03, random_state = 42)\n"
   ]
  },
  {
   "cell_type": "code",
   "execution_count": 90,
   "id": "0dcc0355",
   "metadata": {},
   "outputs": [
    {
     "data": {
      "text/plain": [
       "(1000, 1000)"
      ]
     },
     "execution_count": 90,
     "metadata": {},
     "output_type": "execute_result"
    }
   ],
   "source": [
    "len(X), len(y)"
   ]
  },
  {
   "cell_type": "code",
   "execution_count": 91,
   "id": "5d564d83",
   "metadata": {},
   "outputs": [
    {
     "name": "stdout",
     "output_type": "stream",
     "text": [
      "[[ 0.75424625  0.23148074]\n",
      " [-0.75615888  0.15325888]\n",
      " [-0.81539193  0.17328203]\n",
      " [-0.39373073  0.69288277]\n",
      " [ 0.44220765 -0.89672343]]\n",
      "[1 1 1 1 0]\n"
     ]
    }
   ],
   "source": [
    "print(X[:5])\n",
    "print(y[:5])"
   ]
  },
  {
   "cell_type": "code",
   "execution_count": 92,
   "id": "9c2581e5",
   "metadata": {},
   "outputs": [
    {
     "data": {
      "text/plain": [
       "1000"
      ]
     },
     "execution_count": 92,
     "metadata": {},
     "output_type": "execute_result"
    }
   ],
   "source": [
    "X[:,0].squeeze().size"
   ]
  },
  {
   "cell_type": "code",
   "execution_count": 93,
   "id": "09a6ae51",
   "metadata": {},
   "outputs": [
    {
     "data": {
      "text/html": [
       "<div>\n",
       "<style scoped>\n",
       "    .dataframe tbody tr th:only-of-type {\n",
       "        vertical-align: middle;\n",
       "    }\n",
       "\n",
       "    .dataframe tbody tr th {\n",
       "        vertical-align: top;\n",
       "    }\n",
       "\n",
       "    .dataframe thead th {\n",
       "        text-align: right;\n",
       "    }\n",
       "</style>\n",
       "<table border=\"1\" class=\"dataframe\">\n",
       "  <thead>\n",
       "    <tr style=\"text-align: right;\">\n",
       "      <th></th>\n",
       "      <th>X1</th>\n",
       "      <th>X2</th>\n",
       "      <th>label</th>\n",
       "    </tr>\n",
       "  </thead>\n",
       "  <tbody>\n",
       "    <tr>\n",
       "      <th>0</th>\n",
       "      <td>0.754246</td>\n",
       "      <td>0.231481</td>\n",
       "      <td>1</td>\n",
       "    </tr>\n",
       "    <tr>\n",
       "      <th>1</th>\n",
       "      <td>-0.756159</td>\n",
       "      <td>0.153259</td>\n",
       "      <td>1</td>\n",
       "    </tr>\n",
       "    <tr>\n",
       "      <th>2</th>\n",
       "      <td>-0.815392</td>\n",
       "      <td>0.173282</td>\n",
       "      <td>1</td>\n",
       "    </tr>\n",
       "    <tr>\n",
       "      <th>3</th>\n",
       "      <td>-0.393731</td>\n",
       "      <td>0.692883</td>\n",
       "      <td>1</td>\n",
       "    </tr>\n",
       "    <tr>\n",
       "      <th>4</th>\n",
       "      <td>0.442208</td>\n",
       "      <td>-0.896723</td>\n",
       "      <td>0</td>\n",
       "    </tr>\n",
       "  </tbody>\n",
       "</table>\n",
       "</div>"
      ],
      "text/plain": [
       "         X1        X2  label\n",
       "0  0.754246  0.231481      1\n",
       "1 -0.756159  0.153259      1\n",
       "2 -0.815392  0.173282      1\n",
       "3 -0.393731  0.692883      1\n",
       "4  0.442208 -0.896723      0"
      ]
     },
     "execution_count": 93,
     "metadata": {},
     "output_type": "execute_result"
    }
   ],
   "source": [
    "import pandas as pd\n",
    "circles = pd.DataFrame({\"X1\": X[:,0],\n",
    "                       \"X2\": X[:,1],\n",
    "                       \"label\":y})\n",
    "circles.head()"
   ]
  },
  {
   "cell_type": "code",
   "execution_count": 94,
   "id": "baf8e280",
   "metadata": {},
   "outputs": [
    {
     "data": {
      "text/plain": [
       "<matplotlib.collections.PathCollection at 0x171ad33b430>"
      ]
     },
     "execution_count": 94,
     "metadata": {},
     "output_type": "execute_result"
    },
    {
     "data": {
      "image/png": "[encoded data removed]",
      "text/plain": [
       "<Figure size 640x480 with 1 Axes>"
      ]
     },
     "metadata": {},
     "output_type": "display_data"
    }
   ],
   "source": [
    "# Visualize the data\n",
    "plt.scatter(x= X[:,0], y = X[:,1], c= y, cmap = plt.cm.RdYlBu)"
   ]
  },
  {
   "cell_type": "code",
   "execution_count": 95,
   "id": "46ab3a38",
   "metadata": {},
   "outputs": [
    {
     "data": {
      "text/plain": [
       "((1000, 2), (1000,))"
      ]
     },
     "execution_count": 95,
     "metadata": {},
     "output_type": "execute_result"
    }
   ],
   "source": [
    "X.shape, y.shape"
   ]
  },
  {
   "cell_type": "code",
   "execution_count": 96,
   "id": "c33b1635",
   "metadata": {},
   "outputs": [],
   "source": [
    "# Turn data into tensors \n",
    "X= torch.from_numpy(X).type(torch.float)\n",
    "y = torch.from_numpy(y).type(torch.float)"
   ]
  },
  {
   "cell_type": "code",
   "execution_count": 97,
   "id": "2a5548b3",
   "metadata": {},
   "outputs": [],
   "source": [
    "# Create the train and test split\n",
    "from sklearn.model_selection import train_test_split\n",
    "\n",
    "X_train, X_test, y_train, y_test = train_test_split(X,y, test_size = 0.2, random_state = 42 ,stratify = y)"
   ]
  },
  {
   "cell_type": "code",
   "execution_count": 98,
   "id": "555ed3db",
   "metadata": {},
   "outputs": [
    {
     "data": {
      "text/plain": [
       "(800, 200, 800, 200)"
      ]
     },
     "execution_count": 98,
     "metadata": {},
     "output_type": "execute_result"
    }
   ],
   "source": [
    "len(X_train), len(X_test), len(y_train), len(y_test)"
   ]
  },
  {
   "cell_type": "markdown",
   "id": "78c8574d",
   "metadata": {},
   "source": [
    "### Building the classification model"
   ]
  },
  {
   "cell_type": "code",
   "execution_count": 99,
   "id": "989a92fb",
   "metadata": {},
   "outputs": [
    {
     "data": {
      "text/plain": [
       "'cpu'"
      ]
     },
     "execution_count": 99,
     "metadata": {},
     "output_type": "execute_result"
    }
   ],
   "source": [
    "device = 'cuda' if torch.cuda.is_available() else 'cpu'\n",
    "device"
   ]
  },
  {
   "cell_type": "code",
   "execution_count": 107,
   "id": "444c2acf",
   "metadata": {},
   "outputs": [],
   "source": [
    "class CircleModelV0(nn.Module):\n",
    "    def __init__(self):\n",
    "        super().__init__()\n",
    "        self.layer_1 = nn.Linear(in_features =2, out_features = 5)\n",
    "        # The out_features of the first layer must eb equal to the in_features of the next layer\n",
    "        self.layer_2 = nn.Linear(in_features = 5, out_features = 1 )\n",
    "    \n",
    "    def forward(self, x):\n",
    "        return self.layer_2(self.layer_1(x)) # X_train goes into layer 1 then layer 1 to layer 2"
   ]
  },
  {
   "cell_type": "code",
   "execution_count": 108,
   "id": "876b6cde",
   "metadata": {},
   "outputs": [
    {
     "data": {
      "text/plain": [
       "CircleModelV0(\n",
       "  (layer_1): Linear(in_features=2, out_features=5, bias=True)\n",
       "  (layer_2): Linear(in_features=5, out_features=1, bias=True)\n",
       ")"
      ]
     },
     "execution_count": 108,
     "metadata": {},
     "output_type": "execute_result"
    }
   ],
   "source": [
    "model_1 = CircleModelV0()\n",
    "model_1"
   ]
  },
  {
   "cell_type": "code",
   "execution_count": 102,
   "id": "8f8a2734",
   "metadata": {},
   "outputs": [
    {
     "data": {
      "text/plain": [
       "OrderedDict([('layer_1.weight',\n",
       "              tensor([[ 0.6233, -0.5188],\n",
       "                      [ 0.6146,  0.1323],\n",
       "                      [ 0.5224,  0.0958],\n",
       "                      [ 0.3410, -0.0998],\n",
       "                      [ 0.5451,  0.1045]])),\n",
       "             ('layer_1.bias',\n",
       "              tensor([-0.3301,  0.1802, -0.3258, -0.0829, -0.2872])),\n",
       "             ('layer_2.weight',\n",
       "              tensor([[ 0.2967, -0.3530, -0.2062, -0.1263, -0.2689]])),\n",
       "             ('layer_2.bias', tensor([0.0422]))])"
      ]
     },
     "execution_count": 102,
     "metadata": {},
     "output_type": "execute_result"
    }
   ],
   "source": [
    "model_1.state_dict()"
   ]
  },
  {
   "cell_type": "markdown",
   "id": "af10306d",
   "metadata": {},
   "source": [
    "### Creating the network with `nn.Sequential()`"
   ]
  },
  {
   "cell_type": "code",
   "execution_count": 110,
   "id": "ffa66c1b",
   "metadata": {},
   "outputs": [
    {
     "data": {
      "text/plain": [
       "Sequential(\n",
       "  (0): Linear(in_features=2, out_features=5, bias=True)\n",
       "  (1): Linear(in_features=5, out_features=1, bias=True)\n",
       ")"
      ]
     },
     "execution_count": 110,
     "metadata": {},
     "output_type": "execute_result"
    }
   ],
   "source": [
    "model_1 = nn.Sequential(\n",
    "    nn.Linear(in_features = 2, out_features = 5),\n",
    "    nn.Linear(in_features = 5, out_features = 1))\n",
    "\n",
    "model_1"
   ]
  },
  {
   "cell_type": "code",
   "execution_count": 111,
   "id": "c4b4b184",
   "metadata": {},
   "outputs": [
    {
     "data": {
      "text/plain": [
       "tensor([[-0.0838],\n",
       "        [-0.3949],\n",
       "        [-0.3213],\n",
       "        [-0.5126],\n",
       "        [-0.3685]])"
      ]
     },
     "execution_count": 111,
     "metadata": {},
     "output_type": "execute_result"
    }
   ],
   "source": [
    "# Make predictions with the model\n",
    "with torch.inference_mode():\n",
    "    untrained_preds = model_1(X_test)\n",
    "untrained_preds[:5]"
   ]
  },
  {
   "cell_type": "markdown",
   "id": "2a906fcd",
   "metadata": {},
   "source": [
    "### Picking a loss function and optimizer for the model"
   ]
  },
  {
   "cell_type": "code",
   "execution_count": 114,
   "id": "9ab45b29",
   "metadata": {},
   "outputs": [],
   "source": [
    "loss_fn = nn.BCEWithLogitsLoss()\n",
    "\n",
    "optimizer = torch.optim.SGD(params = model_1.parameters() ,lr = 0.1)"
   ]
  },
  {
   "cell_type": "code",
   "execution_count": 115,
   "id": "6ec53a2b",
   "metadata": {},
   "outputs": [],
   "source": [
    "# Calculate the accuracy\n",
    "def accuracy_fn(y_true, y_pred):\n",
    "    correct = torch.eq(y_true, y_pred).sum().item()\n",
    "    acc = (correct/len(y_pred)) * 100\n",
    "    return acc"
   ]
  },
  {
   "cell_type": "markdown",
   "id": "dd5e0e9e",
   "metadata": {},
   "source": [
    "### Concepts of Logits"
   ]
  },
  {
   "cell_type": "markdown",
   "id": "a894c874",
   "metadata": {},
   "source": [
    "The raw output of our model is called **logits**, we turn does logits to **predictions probabilites** using an activation function like sigmoid activation after which we convert them to **prediction labels**"
   ]
  },
  {
   "cell_type": "code",
   "execution_count": 128,
   "id": "60a5e212",
   "metadata": {},
   "outputs": [
    {
     "data": {
      "text/plain": [
       "tensor([[-0.0838],\n",
       "        [-0.3949],\n",
       "        [-0.3213],\n",
       "        [-0.5126],\n",
       "        [-0.3685]])"
      ]
     },
     "execution_count": 128,
     "metadata": {},
     "output_type": "execute_result"
    }
   ],
   "source": [
    "model_1.eval()\n",
    "with torch.inference_mode():\n",
    "    y_logits = model_1(X_test)\n",
    "y_logits[:5]"
   ]
  },
  {
   "cell_type": "code",
   "execution_count": 130,
   "id": "d79326b6",
   "metadata": {},
   "outputs": [
    {
     "data": {
      "text/plain": [
       "tensor([[0.4791],\n",
       "        [0.4025],\n",
       "        [0.4203],\n",
       "        [0.3746],\n",
       "        [0.4089]])"
      ]
     },
     "execution_count": 130,
     "metadata": {},
     "output_type": "execute_result"
    }
   ],
   "source": [
    "# Passing the logits into the sigmoid activation function\n",
    "y_pred_probs = torch.sigmoid(y_logits)\n",
    "y_pred_probs[:5]"
   ]
  },
  {
   "cell_type": "code",
   "execution_count": 135,
   "id": "e3aa3a2f",
   "metadata": {},
   "outputs": [
    {
     "name": "stdout",
     "output_type": "stream",
     "text": [
      "tensor([True, True, True, True, True])\n",
      "tensor([0., 0., 0., 0., 0.])\n"
     ]
    }
   ],
   "source": [
    "# Convert the predictions probabilities to predicted labels\n",
    "y_preds = torch.round(y_pred_probs)\n",
    "\n",
    "# logits > pred probs > pred labels\n",
    "y_pred_labels = torch.round(torch.sigmoid(model_1(X_test)))\n",
    "\n",
    "# Check for eqaulity\n",
    "print(torch.eq(y_preds.squeeze(), y_pred_labels.squeeze())[:5])\n",
    "print(y_preds.squeeze()[:5])"
   ]
  },
  {
   "cell_type": "code",
   "execution_count": 139,
   "id": "ed2f01fe",
   "metadata": {},
   "outputs": [
    {
     "name": "stdout",
     "output_type": "stream",
     "text": [
      "Epoch: 0 | Loss: 0.00259 | Acc: 49.12% |Test Loss: 0.70559 | Test acc: 47.00%\n",
      "Epoch: 10 | Loss: 0.00259 | Acc: 46.00% |Test Loss: 0.70047 | Test acc: 50.00%\n",
      "Epoch: 20 | Loss: 0.00259 | Acc: 47.38% |Test Loss: 0.69837 | Test acc: 50.00%\n",
      "Epoch: 30 | Loss: 0.00259 | Acc: 48.62% |Test Loss: 0.69728 | Test acc: 50.50%\n",
      "Epoch: 40 | Loss: 0.00259 | Acc: 48.75% |Test Loss: 0.69658 | Test acc: 51.50%\n",
      "Epoch: 50 | Loss: 0.00259 | Acc: 49.12% |Test Loss: 0.69606 | Test acc: 51.00%\n",
      "Epoch: 60 | Loss: 0.00259 | Acc: 49.12% |Test Loss: 0.69564 | Test acc: 50.00%\n",
      "Epoch: 70 | Loss: 0.00259 | Acc: 49.00% |Test Loss: 0.69530 | Test acc: 50.00%\n",
      "Epoch: 80 | Loss: 0.00259 | Acc: 49.50% |Test Loss: 0.69502 | Test acc: 50.00%\n",
      "Epoch: 90 | Loss: 0.00259 | Acc: 49.25% |Test Loss: 0.69479 | Test acc: 50.00%\n"
     ]
    }
   ],
   "source": [
    "# Training the model\n",
    "torch.manual_seed(42)\n",
    "epochs = 100\n",
    "\n",
    "for epoch in range(epochs):\n",
    "    ## Training \n",
    "    model_1.train()\n",
    "\n",
    "    # Forward pass\n",
    "    y_logits = model_1(X_train).squeeze()\n",
    "    \n",
    "    # logits -> pred prob -> pred labels \n",
    "    y_pred = torch.round(torch.sigmoid(y_logits))\n",
    "    \n",
    "    # Calculate the loss and accuracy\n",
    "    # We pass in the logits because the loss function BCEwithlogitsLoss expects a logit\n",
    "    model_loss = loss_fn(y_logits, y_train)\n",
    "    \n",
    "    acc = accuracy_fn(y_true = y_train, y_pred = y_pred)\n",
    "    \n",
    "    # Optimizer zero grad\n",
    "    optimizer.zero_grad()\n",
    "    \n",
    "    # Backpropagation\n",
    "    model_loss.backward()\n",
    "\n",
    "    # Optimizer step (gradient descent)\n",
    "    optimizer.step()\n",
    "    \n",
    "    ## Testing\n",
    "    model_1.eval()\n",
    "    with torch.inference_mode():\n",
    "        test_logits = model_1(X_test).squeeze()\n",
    "        test_pred = torch.round(torch.sigmoid(test_logits))\n",
    "        \n",
    "        # Test loss and accuracy\n",
    "        test_loss = loss_fn(test_logits, y_test)\n",
    "        test_acc = accuracy_fn(y_true = y_test, y_pred = test_pred)\n",
    "        \n",
    "        if epoch % 10 ==0:\n",
    "            print(f\"Epoch: {epoch} | Loss: {loss:.5f} | Acc: {acc:.2f}% |Test Loss: {test_loss:.5f} | Test acc: {test_acc:.2f}%\")\n",
    "        "
   ]
  },
  {
   "cell_type": "markdown",
   "id": "20c3339c",
   "metadata": {},
   "source": [
    "Model is as good as guessing "
   ]
  }
 ],
 "metadata": {
  "kernelspec": {
   "display_name": "Python 3 (ipykernel)",
   "language": "python",
   "name": "python3"
  },
  "language_info": {
   "codemirror_mode": {
    "name": "ipython",
    "version": 3
   },
   "file_extension": ".py",
   "mimetype": "text/x-python",
   "name": "python",
   "nbconvert_exporter": "python",
   "pygments_lexer": "ipython3",
   "version": "3.9.19"
  }
 },
 "nbformat": 4,
 "nbformat_minor": 5
}
